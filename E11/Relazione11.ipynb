{
 "cells": [
  {
   "cell_type": "markdown",
   "id": "cc45e8b3",
   "metadata": {},
   "source": [
    "# Esercitazione 11: fit di funzioni con reti neurali\n",
    "In questa esercitazione abbiamo sfruttato ed esplorato le potenzialità delle reti neurali per eseguire il fit di alcune funzioni, sperimentando con diverse combinazioni dei parametri che caratterizzavano i dati e la rete.\n",
    "\n",
    "In generale, siamo partiti da dati nella forma\n",
    "$$\n",
    "y_i=f(x_i)+\\eta_i\n",
    "$$\n",
    "dove $x$ è la variabile indipendente, $y$ quella dipendente, $f(x)$ la funzione di cui si prova a fare la regressione e $\\eta$ è un rumore gaussiano $\\sim \\mathcal{N}(0,\\sigma^2)$."
   ]
  },
  {
   "cell_type": "markdown",
   "id": "548d8121",
   "metadata": {},
   "source": [
    "## Esercizio 11.1\n",
    "In questa sezione proviamo a eseguire il fit di una funzione lineare:\n",
    "$$\n",
    "f(x)=2x+1\n",
    "$$\n",
    "per $x\\in[-1,1]$. Per questo compito è sufficiente un solo neurone. Proviamo a valutare come la bontà del fit dipenda da una serie di parametri:\n",
    "- il numero di epoche di training del modello $N_{epoch}$\n",
    "- il numero di dati di training $N_{train}$\n",
    "- il rumore sui dati $\\sigma$\n",
    "\n",
    "Per esplorare la dipendenza da tali parametri siamo partiti dai valori fornitici ($N_{epoch}=30,\\ N_{train}=500,\\ \\sigma=0.2$) e li abbiamo aumentati e diminuiti uno per uno, mantendendo gli altri fissati. La valutazione del risultato è affidata a una funzione di costo (scarto quadratico medio). Possiamo inoltre confrontare le previsioni del modello con la retta originaria e i rispettivi parametri (peso e bias del neurone, coefficiente angolare e termine noto della retta).\n",
    "In tutti i casi abbiamo mantenuto un rapporto di $10:1$ tra il numero di dati di training e di validazione.\n",
    "\n",
    "Riportiamo i risultati ottenuti con i parametri iniziali:\n",
    "<table><tr>\n",
    "<td> <img src=\"img/11.1/Loss_30_500_02.png\" alt=\"Drawing\"/> </td>\n",
    "<td> <img src=\"img/11.1/predict_30_500_02.png\" alt=\"Drawing\"/> </td>\n",
    "</tr></table>\n",
    "I parametri ottenuti sono $m=1.9041$, $b=0.9761$.\n",
    "Questa regressione è accettabile ma può essere migliorata."
   ]
  },
  {
   "cell_type": "markdown",
   "id": "17851429",
   "metadata": {},
   "source": [
    "### Numero di epoche\n",
    "$N_{epoch}=8,\\ N_{train}=500,\\ \\sigma=0.2$. Parametri ottenuti: $m=1.2120$, $b=0.8967$\n",
    "<table><tr>\n",
    "<td> <img src=\"img/11.1/Loss_8_500_02.png\" alt=\"Drawing\"/> </td>\n",
    "<td> <img src=\"img/11.1/predict_8_500_02.png\" alt=\"Drawing\"/> </td>\n",
    "</tr></table>\n",
    "$N_{epoch}=300,\\ N_{train}=500,\\ \\sigma=0.2$. Parametri ottenuti: $m=2.0217$, $b=0.9777$\n",
    "<table><tr>\n",
    "<td> <img src=\"img/11.1/Loss_300_500_02.png\" alt=\"Drawing\"/> </td>\n",
    "<td> <img src=\"img/11.1/predict_300_500_02.png\" alt=\"Drawing\"/> </td>\n",
    "</tr></table>\n",
    "\n",
    "Come ci si può aspettare, $8$ epoche non sono sufficienti per allenare la rete. $300$ sono evidentemente troppe (la funzione di costo non diminuisce percettibilmente dopo la caduta iniziale) ma il fit è effettivamente più preciso."
   ]
  },
  {
   "cell_type": "markdown",
   "id": "b579fa44",
   "metadata": {},
   "source": [
    "### Numero di dati\n",
    "$N_{epoch}=30,\\ N_{train}=100,\\ \\sigma=0.2$. Parametri ottenuti: $m=0.8469$, $b=0.8790$\n",
    "<table><tr>\n",
    "<td> <img src=\"img/11.1/Loss_30_100_02.png\" alt=\"Drawing\"/> </td>\n",
    "<td> <img src=\"img/11.1/predict_30_100_02.png\" alt=\"Drawing\"/> </td>\n",
    "</tr></table>\n",
    "$N_{epoch}=30,\\ N_{train}=2500,\\ \\sigma=0.2$. Parametri ottenuti: $m=1.9913$, $b=0.9950$\n",
    "<table><tr>\n",
    "<td> <img src=\"img/11.1/Loss_30_2500_02.png\" alt=\"Drawing\"/> </td>\n",
    "<td> <img src=\"img/11.1/predict_30_2500_02.png\" alt=\"Drawing\"/> </td>\n",
    "</tr></table>\n",
    "Come ci si può aspettare, avere molti dati garantisce un fit più preciso. Si segnala però che con $N_{train}=100$ i parametri che si ottengono sono molto variabili di simulazione in simulazione. Questi probabilmente dipendono in maniera significativa dal rumore dei punti, che essendo così pochi potrebbero essere distribuiti asimmetricamente rispetto alla retta e suggerire una pendenza errata."
   ]
  },
  {
   "cell_type": "markdown",
   "id": "61501a9d",
   "metadata": {},
   "source": [
    "### Rumore sui dati\n",
    "Riportiamo una visualizzazione dei $N_{valid}=50$ dati prodotti per $\\sigma=0.01,\\ 0.2,\\ 2$ per avere un'idea della loro dispersione rispetto alla funzione originale\n",
    "<table><tr>\n",
    "<td> <img src=\"img/11.1/valdata.png\" alt=\"Drawing\" style=\"width: 150px;\"/> </td>\n",
    "</tr></table>\n",
    "\n",
    "$N_{epoch}=30,\\ N_{train}=500,\\ \\sigma=0.01$. Parametri ottenuti: $m=1.9431$, $b=0.9981$\n",
    "<table><tr>\n",
    "<td> <img src=\"img/11.1/Loss_30_500_001.png\" alt=\"Drawing\"/> </td>\n",
    "<td> <img src=\"img/11.1/predict_30_500_001.png\" alt=\"Drawing\"/> </td>\n",
    "</tr></table>\n",
    "$N_{epoch}=30,\\ N_{train}=500,\\ \\sigma=2$. Parametri ottenuti: $m=2.1253$, $b=0.7836$\n",
    "<table><tr>\n",
    "<td> <img src=\"img/11.1/Loss_30_500_2.png\" alt=\"Drawing\"/> </td>\n",
    "<td> <img src=\"img/11.1/predict_30_500_2.png\" alt=\"Drawing\"/> </td>\n",
    "</tr></table>\n",
    "\n",
    "Anche in questo caso i risultati coincidono con le aspettative: se i dati di validazione sono più precisi il fit è migliore. Con deviazione standard grande il modello tende invece ad overfittare i dati."
   ]
  },
  {
   "cell_type": "markdown",
   "id": "0ef09bf8",
   "metadata": {},
   "source": [
    "## Esercizio 11.2\n",
    "Vogliamo eseguire il fit di una funzione polinomiale più complicata:\n",
    "$$\n",
    "f(x)=4-3x-2x^2+3x^3\n",
    "$$\n",
    "per $x \\in [-1,1]$. A questo scopo sperimentiamo diverse disposizioni di neuroni che potrebbero essere più o meno efficaci.\n",
    "Abbiamo scelto $N_{train}=5000$, $N_{valid}=500$, $\\sigma=0.2$, $N_{epoch}=80$. Vengono qui rappresentati i punti del set di validazione:\n",
    "![alt_text](img/11.2/valdata.png \"\")"
   ]
  },
  {
   "cell_type": "markdown",
   "id": "738c71f8",
   "metadata": {},
   "source": [
    "Come prima opzione abbiamo considerato un unico layer con numero di neuroni $N={4,8,48,96,250}$. La struttura della rete è quindi $1|N|1$. Mostriamo l'andamento della funzione di costo e della predizione restituita dal modello (estesa anche all'intervallo $[-1.5,1.5]$) in due immagini animate:\n",
    "\n",
    "- Funzione di costo\n",
    "![SegmentLocal](img/11.2/cost_line.gif \"segment\")\n",
    "- Predizioni del modello\n",
    "![SegmentLocal](img/11.2/predict_line.gif \"segment\")\n",
    "\n",
    "Si osserva che all'aumentare dei neuroni il fit diventa via via più preciso, ma non migliora più di tanto da $N=48$ neuroni in poi. La capacità di predire il valore della funzione al di fuori dell'intervallo originale è piuttosto limitata."
   ]
  },
  {
   "cell_type": "markdown",
   "id": "a7cdc557",
   "metadata": {},
   "source": [
    "Abbiamo poi considerato di costruire una rete più profonda e con meno neuroni per ogni layer: la struttura considerata è $1|4|4|4|4|4|1$.\n",
    "- Funzione di costo\n",
    "![alt_text](img/11.2/loss_stretch.png \"\")\n",
    "- predizione del modello\n",
    "![alt_text](img/11.2/predict_stretch.png \"\")\n",
    "Il fit è discreto ma la capacità predittiva fuori dall'intervallo è fortemente limitata."
   ]
  },
  {
   "cell_type": "markdown",
   "id": "cf6f26b7",
   "metadata": {},
   "source": [
    "Infine abbiamo considerato un network con più neuroni per layer, ma meno profondo di quello precedente: la struttura è $1|8|10|10|10|10|1$.\n",
    "- Funzione di costo\n",
    "![alt_text](img/11.2/loss_rect.png \"\")\n",
    "- predizione del modello\n",
    "![alt_text](img/11.2/predict_rect.png \"\")\n",
    "In questo caso il fit è piuttosto buono, ma ancora una volta la capacità predittiva fuori dall'intervallo è scarsa."
   ]
  },
  {
   "cell_type": "markdown",
   "id": "1f92ece1",
   "metadata": {},
   "source": [
    "_I risultati di questa sezione sono prodotti con il codice in Esercizio11.2.ipynb_"
   ]
  },
  {
   "cell_type": "markdown",
   "id": "64842ae7",
   "metadata": {},
   "source": [
    "## Esercizio 11.3\n",
    "Proviamo infine ad eseguire il fit di una funzione trigonometrica in due variabili:\n",
    "$$\n",
    "f(x,y)=\\sin(x^2+y^2)\n",
    "$$\n",
    "per $x,y\\in[-1.5,1.5]$. Abbiamo mantenuto $\\sigma=0.2$ ma aumentato il numero di dati di training a $N_{train}=10^4$. La struttura utilizzata è nella forma $2|35|25|20|1$. Si rappresenta qui la superficie individuata dalla funzione e i punti del set di validazione:\n",
    "![alt_text](img/11.3/valdata.png \"\")\n",
    "Visualizziamo ora un grafico della funzione di costo e una rappresentazione della differenza tra i punti predetti dal modello e la superficie.\n",
    "<table><tr>\n",
    "<td> <img src=\"img/11.3/Loss function.png\" alt=\"Drawing\"/> </td>\n",
    "<td> <img src=\"img/11.3/diff_points_predicted.png\" alt=\"Drawing\"/> </td>\n",
    "</tr></table>"
   ]
  },
  {
   "cell_type": "markdown",
   "id": "066ae24b",
   "metadata": {},
   "source": [
    "Si nota che la zona in cui il modello fa più fatica a restituire predizioni accurate è negli \"angoli\" ($x,y\\in [-3/2,-3/2+\\epsilon]\\bigcup[3/2-\\epsilon,3/2]$) del dominio. In queste zone la risposta non è molto accurata. "
   ]
  },
  {
   "cell_type": "markdown",
   "id": "80ee106a",
   "metadata": {},
   "source": [
    "_I risultati di questa sezione sono stati prodotti con il codice in Esercizio11.3.ipynb_"
   ]
  }
 ],
 "metadata": {
  "kernelspec": {
   "display_name": "Python 3 (ipykernel)",
   "language": "python",
   "name": "python3"
  },
  "language_info": {
   "codemirror_mode": {
    "name": "ipython",
    "version": 3
   },
   "file_extension": ".py",
   "mimetype": "text/x-python",
   "name": "python",
   "nbconvert_exporter": "python",
   "pygments_lexer": "ipython3",
   "version": "3.8.12"
  }
 },
 "nbformat": 4,
 "nbformat_minor": 5
}
